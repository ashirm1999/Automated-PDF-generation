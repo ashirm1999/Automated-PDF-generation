{
  "nbformat": 4,
  "nbformat_minor": 0,
  "metadata": {
    "colab": {
      "name": "Report Card.ipynb",
      "provenance": [],
      "collapsed_sections": []
    },
    "kernelspec": {
      "name": "python3",
      "display_name": "Python 3"
    }
  },
  "cells": [
    {
      "cell_type": "code",
      "metadata": {
        "id": "x7pPBuoJFN66"
      },
      "source": [
        "pip install fpdf"
      ],
      "execution_count": null,
      "outputs": []
    },
    {
      "cell_type": "code",
      "metadata": {
        "id": "nFHTysOVFN2I"
      },
      "source": [
        "import pandas as pd\n",
        "import numpy as np\n",
        "import matplotlib.pyplot as plt\n",
        "from pylab import title, figure, xlabel, ylabel, xticks, bar, legend, axis, savefig\n",
        "from fpdf import FPDF\n",
        "from PIL import Image\n",
        "from google.colab import files\n",
        "df = pd.read_csv(r'/content/Assignment - Raw data.csv')"
      ],
      "execution_count": null,
      "outputs": []
    },
    {
      "cell_type": "code",
      "metadata": {
        "id": "xXmIph5az2hW"
      },
      "source": [
        "# Replacing NaN with Null\n",
        "df.replace(np.NaN, ' ', inplace=True)\n",
        "\n",
        "# Finding total number of students\n",
        "total_students = max(df['Student No '])\n",
        "\n",
        "# Finding total number of individual questions\n",
        "num_ques = len(df) // total_students"
      ],
      "execution_count": null,
      "outputs": []
    },
    {
      "cell_type": "code",
      "metadata": {
        "id": "UhzTMJ27BsgU",
        "colab": {
          "base_uri": "https://localhost:8080/",
          "height": 430
        },
        "outputId": "372ed2e3-24ab-46c4-c34a-ad7ab96d75b0"
      },
      "source": [
        "# It will display the first 5 row of data frame\n",
        "df.head()"
      ],
      "execution_count": null,
      "outputs": [
        {
          "output_type": "execute_result",
          "data": {
            "text/html": [
              "<div>\n",
              "<style scoped>\n",
              "    .dataframe tbody tr th:only-of-type {\n",
              "        vertical-align: middle;\n",
              "    }\n",
              "\n",
              "    .dataframe tbody tr th {\n",
              "        vertical-align: top;\n",
              "    }\n",
              "\n",
              "    .dataframe thead th {\n",
              "        text-align: right;\n",
              "    }\n",
              "</style>\n",
              "<table border=\"1\" class=\"dataframe\">\n",
              "  <thead>\n",
              "    <tr style=\"text-align: right;\">\n",
              "      <th></th>\n",
              "      <th>Student No</th>\n",
              "      <th>Name of Candidate</th>\n",
              "      <th>Registration</th>\n",
              "      <th>Grade</th>\n",
              "      <th>Gender</th>\n",
              "      <th>Name of school</th>\n",
              "      <th>Date of Birth</th>\n",
              "      <th>City of Residence</th>\n",
              "      <th>Date and time of test</th>\n",
              "      <th>Country of Residence</th>\n",
              "      <th>Extra time assistance</th>\n",
              "      <th>Question No.</th>\n",
              "      <th>Time Spent on question (sec)</th>\n",
              "      <th>Score if correct</th>\n",
              "      <th>Score if incorrect</th>\n",
              "      <th>Attempt status</th>\n",
              "      <th>What you marked</th>\n",
              "      <th>Correct Answer</th>\n",
              "      <th>Outcome (Correct/Incorrect/Not Attempted)</th>\n",
              "      <th>Your score</th>\n",
              "    </tr>\n",
              "  </thead>\n",
              "  <tbody>\n",
              "    <tr>\n",
              "      <th>0</th>\n",
              "      <td>1</td>\n",
              "      <td>abc</td>\n",
              "      <td>32030938</td>\n",
              "      <td>2</td>\n",
              "      <td>M</td>\n",
              "      <td>YTH</td>\n",
              "      <td>10-Nov-12</td>\n",
              "      <td>Boston</td>\n",
              "      <td>16-Dec-20</td>\n",
              "      <td>Japan</td>\n",
              "      <td>No</td>\n",
              "      <td>Q1</td>\n",
              "      <td>60</td>\n",
              "      <td>2</td>\n",
              "      <td>-1</td>\n",
              "      <td>Attempted</td>\n",
              "      <td>A</td>\n",
              "      <td>A</td>\n",
              "      <td>Correct</td>\n",
              "      <td>2</td>\n",
              "    </tr>\n",
              "    <tr>\n",
              "      <th>1</th>\n",
              "      <td>1</td>\n",
              "      <td>abc</td>\n",
              "      <td>32030938</td>\n",
              "      <td>2</td>\n",
              "      <td>M</td>\n",
              "      <td>YTH</td>\n",
              "      <td>10-Nov-12</td>\n",
              "      <td>Boston</td>\n",
              "      <td>16-Dec-20</td>\n",
              "      <td>Japan</td>\n",
              "      <td>No</td>\n",
              "      <td>Q2</td>\n",
              "      <td>52</td>\n",
              "      <td>2</td>\n",
              "      <td>-1</td>\n",
              "      <td>Unattempted</td>\n",
              "      <td></td>\n",
              "      <td>B</td>\n",
              "      <td>Unattempted</td>\n",
              "      <td>0</td>\n",
              "    </tr>\n",
              "    <tr>\n",
              "      <th>2</th>\n",
              "      <td>1</td>\n",
              "      <td>abc</td>\n",
              "      <td>32030938</td>\n",
              "      <td>2</td>\n",
              "      <td>M</td>\n",
              "      <td>YTH</td>\n",
              "      <td>10-Nov-12</td>\n",
              "      <td>Boston</td>\n",
              "      <td>16-Dec-20</td>\n",
              "      <td>Japan</td>\n",
              "      <td>No</td>\n",
              "      <td>Q3</td>\n",
              "      <td>89</td>\n",
              "      <td>2</td>\n",
              "      <td>-1</td>\n",
              "      <td>Attempted</td>\n",
              "      <td>B</td>\n",
              "      <td>C</td>\n",
              "      <td>Incorrect</td>\n",
              "      <td>-1</td>\n",
              "    </tr>\n",
              "    <tr>\n",
              "      <th>3</th>\n",
              "      <td>1</td>\n",
              "      <td>abc</td>\n",
              "      <td>32030938</td>\n",
              "      <td>2</td>\n",
              "      <td>M</td>\n",
              "      <td>YTH</td>\n",
              "      <td>10-Nov-12</td>\n",
              "      <td>Boston</td>\n",
              "      <td>16-Dec-20</td>\n",
              "      <td>Japan</td>\n",
              "      <td>No</td>\n",
              "      <td>Q4</td>\n",
              "      <td>41</td>\n",
              "      <td>2</td>\n",
              "      <td>-1</td>\n",
              "      <td>Unattempted</td>\n",
              "      <td></td>\n",
              "      <td>D</td>\n",
              "      <td>Unattempted</td>\n",
              "      <td>0</td>\n",
              "    </tr>\n",
              "    <tr>\n",
              "      <th>4</th>\n",
              "      <td>1</td>\n",
              "      <td>abc</td>\n",
              "      <td>32030938</td>\n",
              "      <td>2</td>\n",
              "      <td>M</td>\n",
              "      <td>YTH</td>\n",
              "      <td>10-Nov-12</td>\n",
              "      <td>Boston</td>\n",
              "      <td>16-Dec-20</td>\n",
              "      <td>Japan</td>\n",
              "      <td>No</td>\n",
              "      <td>Q5</td>\n",
              "      <td>56</td>\n",
              "      <td>2</td>\n",
              "      <td>-1</td>\n",
              "      <td>Attempted</td>\n",
              "      <td>E</td>\n",
              "      <td>E</td>\n",
              "      <td>Correct</td>\n",
              "      <td>2</td>\n",
              "    </tr>\n",
              "  </tbody>\n",
              "</table>\n",
              "</div>"
            ],
            "text/plain": [
              "   Student No   ... Your score\n",
              "0            1  ...          2\n",
              "1            1  ...          0\n",
              "2            1  ...         -1\n",
              "3            1  ...          0\n",
              "4            1  ...          2\n",
              "\n",
              "[5 rows x 20 columns]"
            ]
          },
          "metadata": {
            "tags": []
          },
          "execution_count": 7
        }
      ]
    },
    {
      "cell_type": "code",
      "metadata": {
        "id": "qvJsBaPOh7lE",
        "colab": {
          "base_uri": "https://localhost:8080/",
          "height": 17
        },
        "outputId": "0c752ca1-019e-49bc-ec79-f5a2b8d99a61"
      },
      "source": [
        "# Changing the font size of matplotlib\n",
        "plt.rcParams['font.size'] = 13\n",
        "# Changing the color of matplotlib fonts\n",
        "plt.rcParams['text.color'] = '#000000'\n",
        "\n",
        "# Using inbuilt color for graphs\n",
        "cmap = plt.get_cmap('Spectral')\n",
        "colors = [cmap(x) for x in np.linspace(0, 1, 8)]\n",
        "\n",
        "# Intializing varibles for the incr of Student\n",
        "x = 0\n",
        "y = num_ques\n",
        "\n",
        "# Loop of each Student\n",
        "while y != len(df) + num_ques:\n",
        "\n",
        "  # Silicg the main df into student wise df\n",
        "  df1 = df.iloc[x:y,:]\n",
        "  # Giving the arguments for the type and size of pdf\n",
        "  pdf = FPDF('L','mm','A3')\n",
        "\n",
        "################################################################################\n",
        "  ## PHOTO SECTION\n",
        "################################################################################\n",
        "  # Automatic Photo Generator\n",
        "  photo = str(df1['Student No '].iloc[0])\n",
        "  # Concating with extension and assigning with variable\n",
        "  photo = '/content/' + photo + '.jpg'\n",
        "################################################################################\n",
        "  ## PDF SECTION\n",
        "################################################################################\n",
        "  # Adding the first page of pdf\n",
        "  pdf.add_page()\n",
        "  # Setting the co-ordinates from 0,0\n",
        "  pdf.set_xy(0, 0)\n",
        "  # This will display single page at a time in full-width\n",
        "  pdf.set_display_mode('fullwidth', 'single')\n",
        "  # Setting the fonts of pdf\n",
        "  pdf.set_font('arial', 'BU', 22)\n",
        "  # Setting cell color to be filed\n",
        "  pdf.set_fill_color(65, 104, 195)\n",
        "\n",
        "  # Creating Image for border and background of A3 size\n",
        "  img = Image.new('RGB', (297,420), \"#2C4D94\" )\n",
        "  img1 = Image.new('RGB' , (297,420), \"#CFC0E3\")\n",
        "  img.save('border.png')\n",
        "  img1.save('back.png')\n",
        "\n",
        "################################################################################\n",
        "  ## BORDER SECTION (COLORS)\n",
        "################################################################################\n",
        "  # Adding image to pdf page that is created using PIL\n",
        "  pdf.image('border.png', x = 0, y = 0, w = 5, h = 420, type = '', link = '')\n",
        "  pdf.image('back.png', x = 5, y = 5, w = 415, h = 415, type = '', link = '')\n",
        "  pdf.image('border.png', x = 0, y = 0, w = 420, h = 5, type = '', link = '')\n",
        "  pdf.image('border.png', x = 5, y = 292, w = 420, h = 5, type = '', link = '')\n",
        "  pdf.image('border.png', x = 415, y = 0, w = 5, h = 420, type = '', link = '')\n",
        "\n",
        "  # Title and Logo Section\n",
        "  pdf.cell(0,5, \" \",0,1)\n",
        "  pdf.cell(0,10,\"Wisdom Tests and Math Challenge\", 0, 2, 'C')\n",
        "  pdf.set_font('')\n",
        "  pdf.cell(203, 10, \"\", 0, 1, 'C')\n",
        "  pdf.image('/content/logo.png', 182, 18, 50, 30, 'png')\n",
        "  pdf.cell(297, 70, \"\", 0, 1, 'C')\n",
        "  pdf.set_font('Times', 'B', 18)\n",
        "\n",
        "  # Passing the photo varible as photo path \n",
        "  pdf.image(photo, 350, 15, 60, 55, 'jpg')\n",
        "\n",
        "################################################################################\n",
        "  ## STUDENT DETAIL \n",
        "################################################################################\n",
        "  pdf.dashed_line(10,90,410,90,4,5)\n",
        "  pdf.cell(45, 10, 'Name of candidate')\n",
        "  pdf.set_font('')\n",
        "  pdf.cell(20, 10, \"\")\n",
        "  pdf.cell(45, 10, '%s' % (str(df1[\"Name of Candidate\"].iloc[0])))\n",
        "  pdf.set_font('Times', 'B', 18)\n",
        "  pdf.cell(195, 10, \"\")\n",
        "  pdf.cell(45, 10, 'Registration No.')\n",
        "  pdf.cell(20, 10, \"\")\n",
        "  pdf.set_font('')\n",
        "  pdf.cell(45, 10, '%s' % (str(df1[\"Registration\"].iloc[0])),ln=1)\n",
        "  pdf.set_font('Times', 'B', 18)\n",
        "\n",
        "  pdf.cell(45, 10, 'Grade')\n",
        "  pdf.set_font('')\n",
        "  pdf.cell(20, 10, \"\")\n",
        "  pdf.cell(45, 10, '%s' % (df1['Grade '].iloc[0]))\n",
        "  pdf.set_font('Times', 'B', 18)\n",
        "  pdf.cell(195, 10, \"\")\n",
        "  pdf.cell(45, 10, 'Gender')\n",
        "  pdf.cell(20, 10, \"\")\n",
        "  pdf.set_font('')\n",
        "  pdf.cell(45, 10, '%s' % (df1['Gender'].iloc[0]),ln=1)\n",
        "  pdf.set_font('Times', 'B', 18)\n",
        "\n",
        "  pdf.cell(45, 10, 'School Name')\n",
        "  pdf.set_font('')\n",
        "  pdf.cell(20, 10, \"\")\n",
        "  pdf.cell(45, 10, '%s' % (df1['Name of school '].iloc[0]))\n",
        "  pdf.set_font('Times', 'B', 18)\n",
        "  pdf.cell(195, 10, \"\")\n",
        "  pdf.cell(45, 10, 'Date of Birth')\n",
        "  pdf.cell(20, 10, \" \")\n",
        "  pdf.set_font('')\n",
        "  pdf.cell(45, 10, '%s' % (df1['Date of Birth '].iloc[0]),ln=1)\n",
        "  pdf.set_font('Times', 'B', 18)\n",
        "\n",
        "  pdf.cell(45, 10, 'City of Residence')\n",
        "  pdf.set_font('')\n",
        "  pdf.cell(20, 10, \"\")\n",
        "  pdf.cell(45, 10, '%s' % (df1['City of Residence'].iloc[0]))\n",
        "  pdf.set_font('Times', 'B', 18)\n",
        "  pdf.cell(195,10, \"\")\n",
        "  pdf.cell(45, 10, 'Date of Test')\n",
        "  pdf.cell(20, 10, \"\")\n",
        "  pdf.set_font('')\n",
        "  pdf.cell(45, 10, '%s' % (df1['Date and time of test'].iloc[0]),ln=1)\n",
        "  pdf.set_font('Times', 'B', 18)\n",
        "\n",
        "  pdf.cell(45, 10, 'Country of Residence')\n",
        "  pdf.set_font('')\n",
        "  pdf.cell(20, 10, \"\")\n",
        "  pdf.cell(45, 10, '%s' % (df1['Country of Residence'].iloc[0]))\n",
        "  pdf.set_font('Times', 'B', 18)\n",
        "  pdf.cell(195, 10, \"\")\n",
        "  pdf.cell(45, 10, 'Extra time assistance')\n",
        "  pdf.cell(20, 10, \"\")\n",
        "  pdf.set_font('')\n",
        "  pdf.cell(45, 10, '%s' % (df1['Extra time assistance'].iloc[0]),ln=1)\n",
        "  pdf.dashed_line(10,150,410,150,4,5)\n",
        "\n",
        "  pdf.cell(297, 10, \" \", 0, 2, 'C')\n",
        "  pdf.set_font('courier', 'B',21)\n",
        "  pdf.set_text_color(16, 14, 129)\n",
        "  pdf.cell(0, 10, \"Student Performance\", 0, 2, 'C')\n",
        "  pdf.set_text_color(0,0,0)\n",
        "  pdf.set_font('arial', 'B', 14)\n",
        "  pdf.cell(90, 5, \" \", 0, 2, 'C')\n",
        "\n",
        "################################################################################\n",
        "  ## TABLE SECTION\n",
        "################################################################################\n",
        "  pdf.set_text_color(255,255,255)\n",
        "  pdf.cell(32, 10, 'Question No', 1, 0, 'C', fill= True)\n",
        "  pdf.cell(42, 10, 'Time', 1, 0, 'C', fill= True)\n",
        "  pdf.cell(42, 10, 'Score if Correct', 1, 0, 'C', fill= True)\n",
        "  pdf.cell(45, 10, 'Score if inCorrect', 1, 0, 'C', fill= True)\n",
        "  pdf.cell(42, 10, 'Attempt Status', 1, 0, 'C', fill= True)\n",
        "  pdf.cell(42, 10, 'Marked', 1, 0, 'C', fill= True)\n",
        "  pdf.cell(62, 10, 'Correct Answer', 1, 0, 'C', fill= True)\n",
        "  pdf.cell(62, 10, 'Outcome', 1, 0, 'C', fill= True)\n",
        "  pdf.cell(0, 10, 'Your Score', 1, 0, 'C', fill= True)\n",
        "  pdf.cell(90, 10, \"\", 0, 1, 'C')\n",
        "  pdf.set_text_color(0,0,0)\n",
        "\n",
        "  # For giving values in Table\n",
        "  pdf.set_font('arial', '', 13)\n",
        "  pdf.set_fill_color(255,255,255)\n",
        "\n",
        "  # For loop for passing values in the table\n",
        "  for i in range(0, num_ques):\n",
        "      pdf.cell(32, 10, '%s' % (df1['Question No.'].iloc[i]), 1, 0, 'C', fill= True)\n",
        "      pdf.cell(42, 10, '%s' % (str(df1[\"Time Spent on question (sec)\"].iloc[i])), 1, 0, 'C', fill= True)\n",
        "      pdf.cell(42, 10, '%s' % (str(df1[\"Score if correct\"].iloc[i])), 1, 0, 'C', fill= True)\n",
        "      pdf.cell(45, 10, '%s' % (str(df1[\"Score if incorrect\"].iloc[i])), 1,0 , 'C', fill= True)\n",
        "      pdf.cell(42, 10, '%s' % (df1['Attempt status '].iloc[i]), 1, 0, 'C', fill= True)\n",
        "      pdf.cell(42, 10, '%s' % (str(df1[\"What you marked\"].iloc[i])), 1, 0, 'C', fill= True)\n",
        "      pdf.cell(62, 10, '%s' % (str(df1[\"Correct Answer\"].iloc[i])), 1, 0, 'C', fill= True)\n",
        "      pdf.cell(62, 10, '%s' % (str(df1[\"Outcome (Correct/Incorrect/Not Attempted)\"].iloc[i])), 1, 0, 'C', fill= True)\n",
        "      pdf.cell(0, 10, '%s' % (df1['Your score'].iloc[i]), 1, 0, 'C', fill= True)\n",
        "      pdf.cell(90, 10, \" \", 0, 1, 'C')\n",
        "\n",
        "  # TOTAL SCORE & PERCENTILE\n",
        "  pdf.cell(90, 10, \" \", 0, 1, 'C')\n",
        "  pdf.set_font('arial', 'B', 14)\n",
        "  pdf.set_fill_color(65, 104, 195)\n",
        "  pdf.set_text_color(255,255,255)\n",
        "  pdf.cell(32, 10, 'Total Score',1,align='C',fill=True)\n",
        "  pdf.set_font('arial', '', 13)\n",
        "  pdf.set_fill_color(255,255,255)\n",
        "  pdf.set_text_color(0,0,0)\n",
        "  pdf.cell(42, 10, '%s' % int(df1['Your score'].sum()),1,1,align='C', fill= True)\n",
        "  pdf.set_font('arial', 'B', 14)\n",
        "  pdf.set_fill_color(65, 104, 195)\n",
        "  pdf.set_text_color(255,255,255)\n",
        "  pdf.cell(32, 10, 'Percentile',1,align='C',fill=True)\n",
        "  pdf.set_font('arial', '', 13)\n",
        "  pdf.set_fill_color(255,255,255)\n",
        "  pdf.set_text_color(0,0,0)\n",
        "  #pdf.cell(42, 10, '%s' %  ,1,align='C', fill= True)\n",
        "\n",
        "################################################################################\n",
        "  ## NEXT PAGE\n",
        "################################################################################\n",
        "  pdf.add_page()\n",
        "  pdf.set_xy(0, 0)\n",
        "  pdf.image('back.png', x = 5, y = 5, w = 415, h = 415, type = '', link = '')\n",
        "\n",
        "  # Function for autopct (> 0)\n",
        "  def my_autopct(pct):\n",
        "    return ('%1.1f' % pct) if pct > 0 else ''\n",
        "\n",
        "################################################################################\n",
        "  ## GRAPH SECTION\n",
        "################################################################################\n",
        "  # To Automate the suffix for each student\n",
        "  I = str(df1['Student No '].iloc[0])\n",
        "\n",
        "  # Correct vs Incorrect (Pie Chart)\n",
        "  correct = int(df1['Outcome (Correct/Incorrect/Not Attempted)'].str.count('Correct').sum())\n",
        "  incorrect = int(df1['Outcome (Correct/Incorrect/Not Attempted)'].str.count('Incorrect').sum())\n",
        "  count_c = [ correct , incorrect]\n",
        "  plt.figure(figsize=(6, 4))\n",
        "  plt.pie(count_c,colors=colors,labels=['Correct', 'Incorrect'],startangle=90,autopct=lambda p: '{:.1f}%'.format(p) if p > 0 else '',textprops={'color':\"black\"});\n",
        "  plt.title(\"Accuracy From Attempted Questions\")\n",
        "  # Giving Graph name with suffix acc to student num\n",
        "  ex1 = 'C vs Inc' + I + '.png'\n",
        "  savefig(ex1,facecolor=\"#CFC0E3\")\n",
        "  pdf.image(ex1, x = -2 , y = 3, w = 0, h = 0, type = '', link = '')\n",
        "  plt.close()\n",
        "\n",
        "  # Time vs Total (Pie Chart)\n",
        "  x_t = df1['Time Spent on question (sec)'][:num_ques]\n",
        "  plt.figure(figsize=(6, 4))\n",
        "  plt.pie(x_t,colors=colors,labels=['Q1', 'Q2' , 'Q3' , 'Q4' , 'Q5' ],startangle=90,autopct='%1.1f%%',textprops={'color':\"black\"});\n",
        "  plt.title(\"Time Spent as a Function of Total Time\")\n",
        "  ex2 = 'T vs Total' + I + '.png'\n",
        "  savefig(ex2,facecolor=\"#CFC0E3\")\n",
        "  pdf.image(ex2, x = 272, y = 3, w = 0, h = 0, type = '', link = '')\n",
        "  plt.close()\n",
        "\n",
        "  # Attempted vs Not Attempted (Pie Chart)\n",
        "  plt.figure(figsize=(6,4))\n",
        "  attempted = int(df1['Attempt status '].str.count('Attempted').sum())\n",
        "  unattempted = int(df1['Attempt status '].str.count('Unattempted').sum())\n",
        "  count_a = [ attempted , unattempted ]\n",
        "  plt.pie(count_a,colors=colors,labels=['Attempted', 'Not Attempted'],startangle=90,autopct=my_autopct,textprops={'color':\"black\"});\n",
        "  plt.title(\"Attempts\")\n",
        "  ex3 = 'A vs NA' + I + '.png'\n",
        "  savefig(ex3,facecolor=\"#CFC0E3\")\n",
        "  pdf.image(ex3, x = -2, y  = 197,  w = 0, h = 0, type = '', link = '')\n",
        "  plt.close()\n",
        " \n",
        "  # Correct vs Incorrect vs Unattempted (Pie Chart)\n",
        "  count_c = [ correct , incorrect , unattempted ]\n",
        "  plt.figure(figsize=(6, 4))\n",
        "  plt.pie(count_c,colors=colors,labels=['Correct', 'Incorrect' , 'Unattempted' ],startangle=90,autopct=lambda p: '{:.1f}%'.format(p) if p > 0 else '',textprops={'color':\"black\"});\n",
        "  plt.title(\"Overall Performance\")\n",
        "  ex5 = 'C vs Inc vs U' + I + '.png'\n",
        "  savefig(ex5,facecolor=\"#CFC0E3\")\n",
        "  pdf.image(ex5, x = 272, y = 197, w = 0, h = 0, type = '', link = '')\n",
        "  plt.close()\n",
        "\n",
        "  # Question vs Time (Bar Graph)\n",
        "  plt.figure(figsize=(6,4))\n",
        "  title(\"Time (sec) \")\n",
        "  xlabel('Question Number',color=\"black\")\n",
        "  ylabel('Time')\n",
        "  bar(df1['Question No.'], df1[\"Time Spent on question (sec)\"], width=0.5, color=colors, edgecolor='#100E81')\n",
        "  ex4 = 'Q vs T' + I + '.png'\n",
        "  savefig(ex4,facecolor=\"#CFC0E3\")\n",
        "  pdf.image(ex4, x = 145, y = 98, w = 0, h = 0, type = '', link = '')\n",
        "  plt.close()\n",
        "  \n",
        "\n",
        "  # PARTITION in the 2nd Page\n",
        "  pdf.dashed_line(5,101,415,101,4,0)\n",
        "  pdf.dashed_line(5,201,415,201,4,0)\n",
        "  pdf.dashed_line(145,5,145,292,4,0)\n",
        "  pdf.dashed_line(290,5,290,292,4,0)\n",
        "\n",
        "  # Borders for 2nd Page\n",
        "  pdf.image('border.png', x = 0, y = 0, w = 5, h = 420, type = '', link = '')\n",
        "  pdf.image('border.png', x = 0, y = 0, w = 420, h = 5, type = '', link = '')\n",
        "  pdf.image('border.png', x = 5, y = 292, w = 420, h = 5, type = '', link = '')\n",
        "  pdf.image('border.png', x = 415, y = 0, w = 5, h = 420, type = '', link = '')\n",
        "\n",
        "  pdf.set_font('courier', 'BU', 22)\n",
        "  pdf.set_text_color(16, 14, 129)\n",
        "  pdf.cell(0,5, \"\",0,1)\n",
        "  pdf.cell(161,0, \"\",0,0)\n",
        "  pdf.cell(100,10,\"Score Card Analysis\", 0,2)\n",
        "\n",
        "  # Concating with extentsion\n",
        "  name = I + \".pdf\"\n",
        "\n",
        "  # Saving as Pdf file \n",
        "  pdf.output(name,\"F\")\n",
        "  # Downloading Pdf file\n",
        "  files.download(name)\n",
        "\n",
        "  # Incr the student number\n",
        "  x += num_ques\n",
        "  y += num_ques"
      ],
      "execution_count": null,
      "outputs": [
        {
          "output_type": "display_data",
          "data": {
            "application/javascript": [
              "\n",
              "    async function download(id, filename, size) {\n",
              "      if (!google.colab.kernel.accessAllowed) {\n",
              "        return;\n",
              "      }\n",
              "      const div = document.createElement('div');\n",
              "      const label = document.createElement('label');\n",
              "      label.textContent = `Downloading \"${filename}\": `;\n",
              "      div.appendChild(label);\n",
              "      const progress = document.createElement('progress');\n",
              "      progress.max = size;\n",
              "      div.appendChild(progress);\n",
              "      document.body.appendChild(div);\n",
              "\n",
              "      const buffers = [];\n",
              "      let downloaded = 0;\n",
              "\n",
              "      const channel = await google.colab.kernel.comms.open(id);\n",
              "      // Send a message to notify the kernel that we're ready.\n",
              "      channel.send({})\n",
              "\n",
              "      for await (const message of channel.messages) {\n",
              "        // Send a message to notify the kernel that we're ready.\n",
              "        channel.send({})\n",
              "        if (message.buffers) {\n",
              "          for (const buffer of message.buffers) {\n",
              "            buffers.push(buffer);\n",
              "            downloaded += buffer.byteLength;\n",
              "            progress.value = downloaded;\n",
              "          }\n",
              "        }\n",
              "      }\n",
              "      const blob = new Blob(buffers, {type: 'application/binary'});\n",
              "      const a = document.createElement('a');\n",
              "      a.href = window.URL.createObjectURL(blob);\n",
              "      a.download = filename;\n",
              "      div.appendChild(a);\n",
              "      a.click();\n",
              "      div.remove();\n",
              "    }\n",
              "  "
            ],
            "text/plain": [
              "<IPython.core.display.Javascript object>"
            ]
          },
          "metadata": {
            "tags": []
          }
        },
        {
          "output_type": "display_data",
          "data": {
            "application/javascript": [
              "download(\"download_1714d75b-1895-4ef9-b633-71479b90c837\", \"1.pdf\", 87390)"
            ],
            "text/plain": [
              "<IPython.core.display.Javascript object>"
            ]
          },
          "metadata": {
            "tags": []
          }
        },
        {
          "output_type": "display_data",
          "data": {
            "application/javascript": [
              "\n",
              "    async function download(id, filename, size) {\n",
              "      if (!google.colab.kernel.accessAllowed) {\n",
              "        return;\n",
              "      }\n",
              "      const div = document.createElement('div');\n",
              "      const label = document.createElement('label');\n",
              "      label.textContent = `Downloading \"${filename}\": `;\n",
              "      div.appendChild(label);\n",
              "      const progress = document.createElement('progress');\n",
              "      progress.max = size;\n",
              "      div.appendChild(progress);\n",
              "      document.body.appendChild(div);\n",
              "\n",
              "      const buffers = [];\n",
              "      let downloaded = 0;\n",
              "\n",
              "      const channel = await google.colab.kernel.comms.open(id);\n",
              "      // Send a message to notify the kernel that we're ready.\n",
              "      channel.send({})\n",
              "\n",
              "      for await (const message of channel.messages) {\n",
              "        // Send a message to notify the kernel that we're ready.\n",
              "        channel.send({})\n",
              "        if (message.buffers) {\n",
              "          for (const buffer of message.buffers) {\n",
              "            buffers.push(buffer);\n",
              "            downloaded += buffer.byteLength;\n",
              "            progress.value = downloaded;\n",
              "          }\n",
              "        }\n",
              "      }\n",
              "      const blob = new Blob(buffers, {type: 'application/binary'});\n",
              "      const a = document.createElement('a');\n",
              "      a.href = window.URL.createObjectURL(blob);\n",
              "      a.download = filename;\n",
              "      div.appendChild(a);\n",
              "      a.click();\n",
              "      div.remove();\n",
              "    }\n",
              "  "
            ],
            "text/plain": [
              "<IPython.core.display.Javascript object>"
            ]
          },
          "metadata": {
            "tags": []
          }
        },
        {
          "output_type": "display_data",
          "data": {
            "application/javascript": [
              "download(\"download_ecaf4e5d-4688-4e1d-bf38-20eebce5b4f7\", \"2.pdf\", 87107)"
            ],
            "text/plain": [
              "<IPython.core.display.Javascript object>"
            ]
          },
          "metadata": {
            "tags": []
          }
        },
        {
          "output_type": "display_data",
          "data": {
            "application/javascript": [
              "\n",
              "    async function download(id, filename, size) {\n",
              "      if (!google.colab.kernel.accessAllowed) {\n",
              "        return;\n",
              "      }\n",
              "      const div = document.createElement('div');\n",
              "      const label = document.createElement('label');\n",
              "      label.textContent = `Downloading \"${filename}\": `;\n",
              "      div.appendChild(label);\n",
              "      const progress = document.createElement('progress');\n",
              "      progress.max = size;\n",
              "      div.appendChild(progress);\n",
              "      document.body.appendChild(div);\n",
              "\n",
              "      const buffers = [];\n",
              "      let downloaded = 0;\n",
              "\n",
              "      const channel = await google.colab.kernel.comms.open(id);\n",
              "      // Send a message to notify the kernel that we're ready.\n",
              "      channel.send({})\n",
              "\n",
              "      for await (const message of channel.messages) {\n",
              "        // Send a message to notify the kernel that we're ready.\n",
              "        channel.send({})\n",
              "        if (message.buffers) {\n",
              "          for (const buffer of message.buffers) {\n",
              "            buffers.push(buffer);\n",
              "            downloaded += buffer.byteLength;\n",
              "            progress.value = downloaded;\n",
              "          }\n",
              "        }\n",
              "      }\n",
              "      const blob = new Blob(buffers, {type: 'application/binary'});\n",
              "      const a = document.createElement('a');\n",
              "      a.href = window.URL.createObjectURL(blob);\n",
              "      a.download = filename;\n",
              "      div.appendChild(a);\n",
              "      a.click();\n",
              "      div.remove();\n",
              "    }\n",
              "  "
            ],
            "text/plain": [
              "<IPython.core.display.Javascript object>"
            ]
          },
          "metadata": {
            "tags": []
          }
        },
        {
          "output_type": "display_data",
          "data": {
            "application/javascript": [
              "download(\"download_ae87c9df-6e96-4d88-b0c0-4f3d73a0dd79\", \"3.pdf\", 89736)"
            ],
            "text/plain": [
              "<IPython.core.display.Javascript object>"
            ]
          },
          "metadata": {
            "tags": []
          }
        },
        {
          "output_type": "display_data",
          "data": {
            "application/javascript": [
              "\n",
              "    async function download(id, filename, size) {\n",
              "      if (!google.colab.kernel.accessAllowed) {\n",
              "        return;\n",
              "      }\n",
              "      const div = document.createElement('div');\n",
              "      const label = document.createElement('label');\n",
              "      label.textContent = `Downloading \"${filename}\": `;\n",
              "      div.appendChild(label);\n",
              "      const progress = document.createElement('progress');\n",
              "      progress.max = size;\n",
              "      div.appendChild(progress);\n",
              "      document.body.appendChild(div);\n",
              "\n",
              "      const buffers = [];\n",
              "      let downloaded = 0;\n",
              "\n",
              "      const channel = await google.colab.kernel.comms.open(id);\n",
              "      // Send a message to notify the kernel that we're ready.\n",
              "      channel.send({})\n",
              "\n",
              "      for await (const message of channel.messages) {\n",
              "        // Send a message to notify the kernel that we're ready.\n",
              "        channel.send({})\n",
              "        if (message.buffers) {\n",
              "          for (const buffer of message.buffers) {\n",
              "            buffers.push(buffer);\n",
              "            downloaded += buffer.byteLength;\n",
              "            progress.value = downloaded;\n",
              "          }\n",
              "        }\n",
              "      }\n",
              "      const blob = new Blob(buffers, {type: 'application/binary'});\n",
              "      const a = document.createElement('a');\n",
              "      a.href = window.URL.createObjectURL(blob);\n",
              "      a.download = filename;\n",
              "      div.appendChild(a);\n",
              "      a.click();\n",
              "      div.remove();\n",
              "    }\n",
              "  "
            ],
            "text/plain": [
              "<IPython.core.display.Javascript object>"
            ]
          },
          "metadata": {
            "tags": []
          }
        },
        {
          "output_type": "display_data",
          "data": {
            "application/javascript": [
              "download(\"download_2fa44bea-5e35-44e4-b9d5-a25645ddf95a\", \"4.pdf\", 86231)"
            ],
            "text/plain": [
              "<IPython.core.display.Javascript object>"
            ]
          },
          "metadata": {
            "tags": []
          }
        },
        {
          "output_type": "display_data",
          "data": {
            "application/javascript": [
              "\n",
              "    async function download(id, filename, size) {\n",
              "      if (!google.colab.kernel.accessAllowed) {\n",
              "        return;\n",
              "      }\n",
              "      const div = document.createElement('div');\n",
              "      const label = document.createElement('label');\n",
              "      label.textContent = `Downloading \"${filename}\": `;\n",
              "      div.appendChild(label);\n",
              "      const progress = document.createElement('progress');\n",
              "      progress.max = size;\n",
              "      div.appendChild(progress);\n",
              "      document.body.appendChild(div);\n",
              "\n",
              "      const buffers = [];\n",
              "      let downloaded = 0;\n",
              "\n",
              "      const channel = await google.colab.kernel.comms.open(id);\n",
              "      // Send a message to notify the kernel that we're ready.\n",
              "      channel.send({})\n",
              "\n",
              "      for await (const message of channel.messages) {\n",
              "        // Send a message to notify the kernel that we're ready.\n",
              "        channel.send({})\n",
              "        if (message.buffers) {\n",
              "          for (const buffer of message.buffers) {\n",
              "            buffers.push(buffer);\n",
              "            downloaded += buffer.byteLength;\n",
              "            progress.value = downloaded;\n",
              "          }\n",
              "        }\n",
              "      }\n",
              "      const blob = new Blob(buffers, {type: 'application/binary'});\n",
              "      const a = document.createElement('a');\n",
              "      a.href = window.URL.createObjectURL(blob);\n",
              "      a.download = filename;\n",
              "      div.appendChild(a);\n",
              "      a.click();\n",
              "      div.remove();\n",
              "    }\n",
              "  "
            ],
            "text/plain": [
              "<IPython.core.display.Javascript object>"
            ]
          },
          "metadata": {
            "tags": []
          }
        },
        {
          "output_type": "display_data",
          "data": {
            "application/javascript": [
              "download(\"download_7198e7ac-5332-4080-9818-5c8460b7af39\", \"5.pdf\", 85533)"
            ],
            "text/plain": [
              "<IPython.core.display.Javascript object>"
            ]
          },
          "metadata": {
            "tags": []
          }
        },
        {
          "output_type": "display_data",
          "data": {
            "application/javascript": [
              "\n",
              "    async function download(id, filename, size) {\n",
              "      if (!google.colab.kernel.accessAllowed) {\n",
              "        return;\n",
              "      }\n",
              "      const div = document.createElement('div');\n",
              "      const label = document.createElement('label');\n",
              "      label.textContent = `Downloading \"${filename}\": `;\n",
              "      div.appendChild(label);\n",
              "      const progress = document.createElement('progress');\n",
              "      progress.max = size;\n",
              "      div.appendChild(progress);\n",
              "      document.body.appendChild(div);\n",
              "\n",
              "      const buffers = [];\n",
              "      let downloaded = 0;\n",
              "\n",
              "      const channel = await google.colab.kernel.comms.open(id);\n",
              "      // Send a message to notify the kernel that we're ready.\n",
              "      channel.send({})\n",
              "\n",
              "      for await (const message of channel.messages) {\n",
              "        // Send a message to notify the kernel that we're ready.\n",
              "        channel.send({})\n",
              "        if (message.buffers) {\n",
              "          for (const buffer of message.buffers) {\n",
              "            buffers.push(buffer);\n",
              "            downloaded += buffer.byteLength;\n",
              "            progress.value = downloaded;\n",
              "          }\n",
              "        }\n",
              "      }\n",
              "      const blob = new Blob(buffers, {type: 'application/binary'});\n",
              "      const a = document.createElement('a');\n",
              "      a.href = window.URL.createObjectURL(blob);\n",
              "      a.download = filename;\n",
              "      div.appendChild(a);\n",
              "      a.click();\n",
              "      div.remove();\n",
              "    }\n",
              "  "
            ],
            "text/plain": [
              "<IPython.core.display.Javascript object>"
            ]
          },
          "metadata": {
            "tags": []
          }
        },
        {
          "output_type": "display_data",
          "data": {
            "application/javascript": [
              "download(\"download_065b3e61-8d57-4dba-890c-43ab726faa21\", \"6.pdf\", 87348)"
            ],
            "text/plain": [
              "<IPython.core.display.Javascript object>"
            ]
          },
          "metadata": {
            "tags": []
          }
        },
        {
          "output_type": "display_data",
          "data": {
            "application/javascript": [
              "\n",
              "    async function download(id, filename, size) {\n",
              "      if (!google.colab.kernel.accessAllowed) {\n",
              "        return;\n",
              "      }\n",
              "      const div = document.createElement('div');\n",
              "      const label = document.createElement('label');\n",
              "      label.textContent = `Downloading \"${filename}\": `;\n",
              "      div.appendChild(label);\n",
              "      const progress = document.createElement('progress');\n",
              "      progress.max = size;\n",
              "      div.appendChild(progress);\n",
              "      document.body.appendChild(div);\n",
              "\n",
              "      const buffers = [];\n",
              "      let downloaded = 0;\n",
              "\n",
              "      const channel = await google.colab.kernel.comms.open(id);\n",
              "      // Send a message to notify the kernel that we're ready.\n",
              "      channel.send({})\n",
              "\n",
              "      for await (const message of channel.messages) {\n",
              "        // Send a message to notify the kernel that we're ready.\n",
              "        channel.send({})\n",
              "        if (message.buffers) {\n",
              "          for (const buffer of message.buffers) {\n",
              "            buffers.push(buffer);\n",
              "            downloaded += buffer.byteLength;\n",
              "            progress.value = downloaded;\n",
              "          }\n",
              "        }\n",
              "      }\n",
              "      const blob = new Blob(buffers, {type: 'application/binary'});\n",
              "      const a = document.createElement('a');\n",
              "      a.href = window.URL.createObjectURL(blob);\n",
              "      a.download = filename;\n",
              "      div.appendChild(a);\n",
              "      a.click();\n",
              "      div.remove();\n",
              "    }\n",
              "  "
            ],
            "text/plain": [
              "<IPython.core.display.Javascript object>"
            ]
          },
          "metadata": {
            "tags": []
          }
        },
        {
          "output_type": "display_data",
          "data": {
            "application/javascript": [
              "download(\"download_1633d0fe-7ea3-43ca-ba55-a42be397d8ca\", \"7.pdf\", 82569)"
            ],
            "text/plain": [
              "<IPython.core.display.Javascript object>"
            ]
          },
          "metadata": {
            "tags": []
          }
        },
        {
          "output_type": "display_data",
          "data": {
            "application/javascript": [
              "\n",
              "    async function download(id, filename, size) {\n",
              "      if (!google.colab.kernel.accessAllowed) {\n",
              "        return;\n",
              "      }\n",
              "      const div = document.createElement('div');\n",
              "      const label = document.createElement('label');\n",
              "      label.textContent = `Downloading \"${filename}\": `;\n",
              "      div.appendChild(label);\n",
              "      const progress = document.createElement('progress');\n",
              "      progress.max = size;\n",
              "      div.appendChild(progress);\n",
              "      document.body.appendChild(div);\n",
              "\n",
              "      const buffers = [];\n",
              "      let downloaded = 0;\n",
              "\n",
              "      const channel = await google.colab.kernel.comms.open(id);\n",
              "      // Send a message to notify the kernel that we're ready.\n",
              "      channel.send({})\n",
              "\n",
              "      for await (const message of channel.messages) {\n",
              "        // Send a message to notify the kernel that we're ready.\n",
              "        channel.send({})\n",
              "        if (message.buffers) {\n",
              "          for (const buffer of message.buffers) {\n",
              "            buffers.push(buffer);\n",
              "            downloaded += buffer.byteLength;\n",
              "            progress.value = downloaded;\n",
              "          }\n",
              "        }\n",
              "      }\n",
              "      const blob = new Blob(buffers, {type: 'application/binary'});\n",
              "      const a = document.createElement('a');\n",
              "      a.href = window.URL.createObjectURL(blob);\n",
              "      a.download = filename;\n",
              "      div.appendChild(a);\n",
              "      a.click();\n",
              "      div.remove();\n",
              "    }\n",
              "  "
            ],
            "text/plain": [
              "<IPython.core.display.Javascript object>"
            ]
          },
          "metadata": {
            "tags": []
          }
        },
        {
          "output_type": "display_data",
          "data": {
            "application/javascript": [
              "download(\"download_c4c31751-9716-4697-8b9e-71668a0462b9\", \"8.pdf\", 84934)"
            ],
            "text/plain": [
              "<IPython.core.display.Javascript object>"
            ]
          },
          "metadata": {
            "tags": []
          }
        },
        {
          "output_type": "display_data",
          "data": {
            "application/javascript": [
              "\n",
              "    async function download(id, filename, size) {\n",
              "      if (!google.colab.kernel.accessAllowed) {\n",
              "        return;\n",
              "      }\n",
              "      const div = document.createElement('div');\n",
              "      const label = document.createElement('label');\n",
              "      label.textContent = `Downloading \"${filename}\": `;\n",
              "      div.appendChild(label);\n",
              "      const progress = document.createElement('progress');\n",
              "      progress.max = size;\n",
              "      div.appendChild(progress);\n",
              "      document.body.appendChild(div);\n",
              "\n",
              "      const buffers = [];\n",
              "      let downloaded = 0;\n",
              "\n",
              "      const channel = await google.colab.kernel.comms.open(id);\n",
              "      // Send a message to notify the kernel that we're ready.\n",
              "      channel.send({})\n",
              "\n",
              "      for await (const message of channel.messages) {\n",
              "        // Send a message to notify the kernel that we're ready.\n",
              "        channel.send({})\n",
              "        if (message.buffers) {\n",
              "          for (const buffer of message.buffers) {\n",
              "            buffers.push(buffer);\n",
              "            downloaded += buffer.byteLength;\n",
              "            progress.value = downloaded;\n",
              "          }\n",
              "        }\n",
              "      }\n",
              "      const blob = new Blob(buffers, {type: 'application/binary'});\n",
              "      const a = document.createElement('a');\n",
              "      a.href = window.URL.createObjectURL(blob);\n",
              "      a.download = filename;\n",
              "      div.appendChild(a);\n",
              "      a.click();\n",
              "      div.remove();\n",
              "    }\n",
              "  "
            ],
            "text/plain": [
              "<IPython.core.display.Javascript object>"
            ]
          },
          "metadata": {
            "tags": []
          }
        },
        {
          "output_type": "display_data",
          "data": {
            "application/javascript": [
              "download(\"download_a9a04486-6158-4122-b5b0-b4ff85cd228e\", \"9.pdf\", 85353)"
            ],
            "text/plain": [
              "<IPython.core.display.Javascript object>"
            ]
          },
          "metadata": {
            "tags": []
          }
        },
        {
          "output_type": "display_data",
          "data": {
            "application/javascript": [
              "\n",
              "    async function download(id, filename, size) {\n",
              "      if (!google.colab.kernel.accessAllowed) {\n",
              "        return;\n",
              "      }\n",
              "      const div = document.createElement('div');\n",
              "      const label = document.createElement('label');\n",
              "      label.textContent = `Downloading \"${filename}\": `;\n",
              "      div.appendChild(label);\n",
              "      const progress = document.createElement('progress');\n",
              "      progress.max = size;\n",
              "      div.appendChild(progress);\n",
              "      document.body.appendChild(div);\n",
              "\n",
              "      const buffers = [];\n",
              "      let downloaded = 0;\n",
              "\n",
              "      const channel = await google.colab.kernel.comms.open(id);\n",
              "      // Send a message to notify the kernel that we're ready.\n",
              "      channel.send({})\n",
              "\n",
              "      for await (const message of channel.messages) {\n",
              "        // Send a message to notify the kernel that we're ready.\n",
              "        channel.send({})\n",
              "        if (message.buffers) {\n",
              "          for (const buffer of message.buffers) {\n",
              "            buffers.push(buffer);\n",
              "            downloaded += buffer.byteLength;\n",
              "            progress.value = downloaded;\n",
              "          }\n",
              "        }\n",
              "      }\n",
              "      const blob = new Blob(buffers, {type: 'application/binary'});\n",
              "      const a = document.createElement('a');\n",
              "      a.href = window.URL.createObjectURL(blob);\n",
              "      a.download = filename;\n",
              "      div.appendChild(a);\n",
              "      a.click();\n",
              "      div.remove();\n",
              "    }\n",
              "  "
            ],
            "text/plain": [
              "<IPython.core.display.Javascript object>"
            ]
          },
          "metadata": {
            "tags": []
          }
        },
        {
          "output_type": "display_data",
          "data": {
            "application/javascript": [
              "download(\"download_5344f869-662b-439b-b8eb-81e72fcd4d4e\", \"10.pdf\", 87149)"
            ],
            "text/plain": [
              "<IPython.core.display.Javascript object>"
            ]
          },
          "metadata": {
            "tags": []
          }
        },
        {
          "output_type": "display_data",
          "data": {
            "application/javascript": [
              "\n",
              "    async function download(id, filename, size) {\n",
              "      if (!google.colab.kernel.accessAllowed) {\n",
              "        return;\n",
              "      }\n",
              "      const div = document.createElement('div');\n",
              "      const label = document.createElement('label');\n",
              "      label.textContent = `Downloading \"${filename}\": `;\n",
              "      div.appendChild(label);\n",
              "      const progress = document.createElement('progress');\n",
              "      progress.max = size;\n",
              "      div.appendChild(progress);\n",
              "      document.body.appendChild(div);\n",
              "\n",
              "      const buffers = [];\n",
              "      let downloaded = 0;\n",
              "\n",
              "      const channel = await google.colab.kernel.comms.open(id);\n",
              "      // Send a message to notify the kernel that we're ready.\n",
              "      channel.send({})\n",
              "\n",
              "      for await (const message of channel.messages) {\n",
              "        // Send a message to notify the kernel that we're ready.\n",
              "        channel.send({})\n",
              "        if (message.buffers) {\n",
              "          for (const buffer of message.buffers) {\n",
              "            buffers.push(buffer);\n",
              "            downloaded += buffer.byteLength;\n",
              "            progress.value = downloaded;\n",
              "          }\n",
              "        }\n",
              "      }\n",
              "      const blob = new Blob(buffers, {type: 'application/binary'});\n",
              "      const a = document.createElement('a');\n",
              "      a.href = window.URL.createObjectURL(blob);\n",
              "      a.download = filename;\n",
              "      div.appendChild(a);\n",
              "      a.click();\n",
              "      div.remove();\n",
              "    }\n",
              "  "
            ],
            "text/plain": [
              "<IPython.core.display.Javascript object>"
            ]
          },
          "metadata": {
            "tags": []
          }
        },
        {
          "output_type": "display_data",
          "data": {
            "application/javascript": [
              "download(\"download_5af650ce-3841-4e82-8e94-a8b305924aa9\", \"11.pdf\", 84134)"
            ],
            "text/plain": [
              "<IPython.core.display.Javascript object>"
            ]
          },
          "metadata": {
            "tags": []
          }
        },
        {
          "output_type": "display_data",
          "data": {
            "application/javascript": [
              "\n",
              "    async function download(id, filename, size) {\n",
              "      if (!google.colab.kernel.accessAllowed) {\n",
              "        return;\n",
              "      }\n",
              "      const div = document.createElement('div');\n",
              "      const label = document.createElement('label');\n",
              "      label.textContent = `Downloading \"${filename}\": `;\n",
              "      div.appendChild(label);\n",
              "      const progress = document.createElement('progress');\n",
              "      progress.max = size;\n",
              "      div.appendChild(progress);\n",
              "      document.body.appendChild(div);\n",
              "\n",
              "      const buffers = [];\n",
              "      let downloaded = 0;\n",
              "\n",
              "      const channel = await google.colab.kernel.comms.open(id);\n",
              "      // Send a message to notify the kernel that we're ready.\n",
              "      channel.send({})\n",
              "\n",
              "      for await (const message of channel.messages) {\n",
              "        // Send a message to notify the kernel that we're ready.\n",
              "        channel.send({})\n",
              "        if (message.buffers) {\n",
              "          for (const buffer of message.buffers) {\n",
              "            buffers.push(buffer);\n",
              "            downloaded += buffer.byteLength;\n",
              "            progress.value = downloaded;\n",
              "          }\n",
              "        }\n",
              "      }\n",
              "      const blob = new Blob(buffers, {type: 'application/binary'});\n",
              "      const a = document.createElement('a');\n",
              "      a.href = window.URL.createObjectURL(blob);\n",
              "      a.download = filename;\n",
              "      div.appendChild(a);\n",
              "      a.click();\n",
              "      div.remove();\n",
              "    }\n",
              "  "
            ],
            "text/plain": [
              "<IPython.core.display.Javascript object>"
            ]
          },
          "metadata": {
            "tags": []
          }
        },
        {
          "output_type": "display_data",
          "data": {
            "application/javascript": [
              "download(\"download_545e6f4d-bf6e-42cb-a72c-9b381acbdc8b\", \"12.pdf\", 87115)"
            ],
            "text/plain": [
              "<IPython.core.display.Javascript object>"
            ]
          },
          "metadata": {
            "tags": []
          }
        },
        {
          "output_type": "display_data",
          "data": {
            "application/javascript": [
              "\n",
              "    async function download(id, filename, size) {\n",
              "      if (!google.colab.kernel.accessAllowed) {\n",
              "        return;\n",
              "      }\n",
              "      const div = document.createElement('div');\n",
              "      const label = document.createElement('label');\n",
              "      label.textContent = `Downloading \"${filename}\": `;\n",
              "      div.appendChild(label);\n",
              "      const progress = document.createElement('progress');\n",
              "      progress.max = size;\n",
              "      div.appendChild(progress);\n",
              "      document.body.appendChild(div);\n",
              "\n",
              "      const buffers = [];\n",
              "      let downloaded = 0;\n",
              "\n",
              "      const channel = await google.colab.kernel.comms.open(id);\n",
              "      // Send a message to notify the kernel that we're ready.\n",
              "      channel.send({})\n",
              "\n",
              "      for await (const message of channel.messages) {\n",
              "        // Send a message to notify the kernel that we're ready.\n",
              "        channel.send({})\n",
              "        if (message.buffers) {\n",
              "          for (const buffer of message.buffers) {\n",
              "            buffers.push(buffer);\n",
              "            downloaded += buffer.byteLength;\n",
              "            progress.value = downloaded;\n",
              "          }\n",
              "        }\n",
              "      }\n",
              "      const blob = new Blob(buffers, {type: 'application/binary'});\n",
              "      const a = document.createElement('a');\n",
              "      a.href = window.URL.createObjectURL(blob);\n",
              "      a.download = filename;\n",
              "      div.appendChild(a);\n",
              "      a.click();\n",
              "      div.remove();\n",
              "    }\n",
              "  "
            ],
            "text/plain": [
              "<IPython.core.display.Javascript object>"
            ]
          },
          "metadata": {
            "tags": []
          }
        },
        {
          "output_type": "display_data",
          "data": {
            "application/javascript": [
              "download(\"download_56b511ed-3fc3-4300-acaf-c2ff0809654d\", \"13.pdf\", 90977)"
            ],
            "text/plain": [
              "<IPython.core.display.Javascript object>"
            ]
          },
          "metadata": {
            "tags": []
          }
        },
        {
          "output_type": "display_data",
          "data": {
            "application/javascript": [
              "\n",
              "    async function download(id, filename, size) {\n",
              "      if (!google.colab.kernel.accessAllowed) {\n",
              "        return;\n",
              "      }\n",
              "      const div = document.createElement('div');\n",
              "      const label = document.createElement('label');\n",
              "      label.textContent = `Downloading \"${filename}\": `;\n",
              "      div.appendChild(label);\n",
              "      const progress = document.createElement('progress');\n",
              "      progress.max = size;\n",
              "      div.appendChild(progress);\n",
              "      document.body.appendChild(div);\n",
              "\n",
              "      const buffers = [];\n",
              "      let downloaded = 0;\n",
              "\n",
              "      const channel = await google.colab.kernel.comms.open(id);\n",
              "      // Send a message to notify the kernel that we're ready.\n",
              "      channel.send({})\n",
              "\n",
              "      for await (const message of channel.messages) {\n",
              "        // Send a message to notify the kernel that we're ready.\n",
              "        channel.send({})\n",
              "        if (message.buffers) {\n",
              "          for (const buffer of message.buffers) {\n",
              "            buffers.push(buffer);\n",
              "            downloaded += buffer.byteLength;\n",
              "            progress.value = downloaded;\n",
              "          }\n",
              "        }\n",
              "      }\n",
              "      const blob = new Blob(buffers, {type: 'application/binary'});\n",
              "      const a = document.createElement('a');\n",
              "      a.href = window.URL.createObjectURL(blob);\n",
              "      a.download = filename;\n",
              "      div.appendChild(a);\n",
              "      a.click();\n",
              "      div.remove();\n",
              "    }\n",
              "  "
            ],
            "text/plain": [
              "<IPython.core.display.Javascript object>"
            ]
          },
          "metadata": {
            "tags": []
          }
        },
        {
          "output_type": "display_data",
          "data": {
            "application/javascript": [
              "download(\"download_f73573f7-3dcd-419f-83a1-4703d062e44b\", \"14.pdf\", 86330)"
            ],
            "text/plain": [
              "<IPython.core.display.Javascript object>"
            ]
          },
          "metadata": {
            "tags": []
          }
        },
        {
          "output_type": "display_data",
          "data": {
            "application/javascript": [
              "\n",
              "    async function download(id, filename, size) {\n",
              "      if (!google.colab.kernel.accessAllowed) {\n",
              "        return;\n",
              "      }\n",
              "      const div = document.createElement('div');\n",
              "      const label = document.createElement('label');\n",
              "      label.textContent = `Downloading \"${filename}\": `;\n",
              "      div.appendChild(label);\n",
              "      const progress = document.createElement('progress');\n",
              "      progress.max = size;\n",
              "      div.appendChild(progress);\n",
              "      document.body.appendChild(div);\n",
              "\n",
              "      const buffers = [];\n",
              "      let downloaded = 0;\n",
              "\n",
              "      const channel = await google.colab.kernel.comms.open(id);\n",
              "      // Send a message to notify the kernel that we're ready.\n",
              "      channel.send({})\n",
              "\n",
              "      for await (const message of channel.messages) {\n",
              "        // Send a message to notify the kernel that we're ready.\n",
              "        channel.send({})\n",
              "        if (message.buffers) {\n",
              "          for (const buffer of message.buffers) {\n",
              "            buffers.push(buffer);\n",
              "            downloaded += buffer.byteLength;\n",
              "            progress.value = downloaded;\n",
              "          }\n",
              "        }\n",
              "      }\n",
              "      const blob = new Blob(buffers, {type: 'application/binary'});\n",
              "      const a = document.createElement('a');\n",
              "      a.href = window.URL.createObjectURL(blob);\n",
              "      a.download = filename;\n",
              "      div.appendChild(a);\n",
              "      a.click();\n",
              "      div.remove();\n",
              "    }\n",
              "  "
            ],
            "text/plain": [
              "<IPython.core.display.Javascript object>"
            ]
          },
          "metadata": {
            "tags": []
          }
        },
        {
          "output_type": "display_data",
          "data": {
            "application/javascript": [
              "download(\"download_9fef5a0a-43ce-4d4e-b018-bd6381ec8c2f\", \"15.pdf\", 87123)"
            ],
            "text/plain": [
              "<IPython.core.display.Javascript object>"
            ]
          },
          "metadata": {
            "tags": []
          }
        },
        {
          "output_type": "display_data",
          "data": {
            "application/javascript": [
              "\n",
              "    async function download(id, filename, size) {\n",
              "      if (!google.colab.kernel.accessAllowed) {\n",
              "        return;\n",
              "      }\n",
              "      const div = document.createElement('div');\n",
              "      const label = document.createElement('label');\n",
              "      label.textContent = `Downloading \"${filename}\": `;\n",
              "      div.appendChild(label);\n",
              "      const progress = document.createElement('progress');\n",
              "      progress.max = size;\n",
              "      div.appendChild(progress);\n",
              "      document.body.appendChild(div);\n",
              "\n",
              "      const buffers = [];\n",
              "      let downloaded = 0;\n",
              "\n",
              "      const channel = await google.colab.kernel.comms.open(id);\n",
              "      // Send a message to notify the kernel that we're ready.\n",
              "      channel.send({})\n",
              "\n",
              "      for await (const message of channel.messages) {\n",
              "        // Send a message to notify the kernel that we're ready.\n",
              "        channel.send({})\n",
              "        if (message.buffers) {\n",
              "          for (const buffer of message.buffers) {\n",
              "            buffers.push(buffer);\n",
              "            downloaded += buffer.byteLength;\n",
              "            progress.value = downloaded;\n",
              "          }\n",
              "        }\n",
              "      }\n",
              "      const blob = new Blob(buffers, {type: 'application/binary'});\n",
              "      const a = document.createElement('a');\n",
              "      a.href = window.URL.createObjectURL(blob);\n",
              "      a.download = filename;\n",
              "      div.appendChild(a);\n",
              "      a.click();\n",
              "      div.remove();\n",
              "    }\n",
              "  "
            ],
            "text/plain": [
              "<IPython.core.display.Javascript object>"
            ]
          },
          "metadata": {
            "tags": []
          }
        },
        {
          "output_type": "display_data",
          "data": {
            "application/javascript": [
              "download(\"download_3b4ad93f-5537-409a-8ec7-0327b2f2e7a8\", \"16.pdf\", 84761)"
            ],
            "text/plain": [
              "<IPython.core.display.Javascript object>"
            ]
          },
          "metadata": {
            "tags": []
          }
        },
        {
          "output_type": "display_data",
          "data": {
            "application/javascript": [
              "\n",
              "    async function download(id, filename, size) {\n",
              "      if (!google.colab.kernel.accessAllowed) {\n",
              "        return;\n",
              "      }\n",
              "      const div = document.createElement('div');\n",
              "      const label = document.createElement('label');\n",
              "      label.textContent = `Downloading \"${filename}\": `;\n",
              "      div.appendChild(label);\n",
              "      const progress = document.createElement('progress');\n",
              "      progress.max = size;\n",
              "      div.appendChild(progress);\n",
              "      document.body.appendChild(div);\n",
              "\n",
              "      const buffers = [];\n",
              "      let downloaded = 0;\n",
              "\n",
              "      const channel = await google.colab.kernel.comms.open(id);\n",
              "      // Send a message to notify the kernel that we're ready.\n",
              "      channel.send({})\n",
              "\n",
              "      for await (const message of channel.messages) {\n",
              "        // Send a message to notify the kernel that we're ready.\n",
              "        channel.send({})\n",
              "        if (message.buffers) {\n",
              "          for (const buffer of message.buffers) {\n",
              "            buffers.push(buffer);\n",
              "            downloaded += buffer.byteLength;\n",
              "            progress.value = downloaded;\n",
              "          }\n",
              "        }\n",
              "      }\n",
              "      const blob = new Blob(buffers, {type: 'application/binary'});\n",
              "      const a = document.createElement('a');\n",
              "      a.href = window.URL.createObjectURL(blob);\n",
              "      a.download = filename;\n",
              "      div.appendChild(a);\n",
              "      a.click();\n",
              "      div.remove();\n",
              "    }\n",
              "  "
            ],
            "text/plain": [
              "<IPython.core.display.Javascript object>"
            ]
          },
          "metadata": {
            "tags": []
          }
        },
        {
          "output_type": "display_data",
          "data": {
            "application/javascript": [
              "download(\"download_5863633d-44ce-4d49-aae4-1e68c77666aa\", \"17.pdf\", 82356)"
            ],
            "text/plain": [
              "<IPython.core.display.Javascript object>"
            ]
          },
          "metadata": {
            "tags": []
          }
        },
        {
          "output_type": "display_data",
          "data": {
            "application/javascript": [
              "\n",
              "    async function download(id, filename, size) {\n",
              "      if (!google.colab.kernel.accessAllowed) {\n",
              "        return;\n",
              "      }\n",
              "      const div = document.createElement('div');\n",
              "      const label = document.createElement('label');\n",
              "      label.textContent = `Downloading \"${filename}\": `;\n",
              "      div.appendChild(label);\n",
              "      const progress = document.createElement('progress');\n",
              "      progress.max = size;\n",
              "      div.appendChild(progress);\n",
              "      document.body.appendChild(div);\n",
              "\n",
              "      const buffers = [];\n",
              "      let downloaded = 0;\n",
              "\n",
              "      const channel = await google.colab.kernel.comms.open(id);\n",
              "      // Send a message to notify the kernel that we're ready.\n",
              "      channel.send({})\n",
              "\n",
              "      for await (const message of channel.messages) {\n",
              "        // Send a message to notify the kernel that we're ready.\n",
              "        channel.send({})\n",
              "        if (message.buffers) {\n",
              "          for (const buffer of message.buffers) {\n",
              "            buffers.push(buffer);\n",
              "            downloaded += buffer.byteLength;\n",
              "            progress.value = downloaded;\n",
              "          }\n",
              "        }\n",
              "      }\n",
              "      const blob = new Blob(buffers, {type: 'application/binary'});\n",
              "      const a = document.createElement('a');\n",
              "      a.href = window.URL.createObjectURL(blob);\n",
              "      a.download = filename;\n",
              "      div.appendChild(a);\n",
              "      a.click();\n",
              "      div.remove();\n",
              "    }\n",
              "  "
            ],
            "text/plain": [
              "<IPython.core.display.Javascript object>"
            ]
          },
          "metadata": {
            "tags": []
          }
        },
        {
          "output_type": "display_data",
          "data": {
            "application/javascript": [
              "download(\"download_74ca50d6-fbcd-4667-949d-73e3bf1e4b8f\", \"18.pdf\", 85555)"
            ],
            "text/plain": [
              "<IPython.core.display.Javascript object>"
            ]
          },
          "metadata": {
            "tags": []
          }
        },
        {
          "output_type": "display_data",
          "data": {
            "application/javascript": [
              "\n",
              "    async function download(id, filename, size) {\n",
              "      if (!google.colab.kernel.accessAllowed) {\n",
              "        return;\n",
              "      }\n",
              "      const div = document.createElement('div');\n",
              "      const label = document.createElement('label');\n",
              "      label.textContent = `Downloading \"${filename}\": `;\n",
              "      div.appendChild(label);\n",
              "      const progress = document.createElement('progress');\n",
              "      progress.max = size;\n",
              "      div.appendChild(progress);\n",
              "      document.body.appendChild(div);\n",
              "\n",
              "      const buffers = [];\n",
              "      let downloaded = 0;\n",
              "\n",
              "      const channel = await google.colab.kernel.comms.open(id);\n",
              "      // Send a message to notify the kernel that we're ready.\n",
              "      channel.send({})\n",
              "\n",
              "      for await (const message of channel.messages) {\n",
              "        // Send a message to notify the kernel that we're ready.\n",
              "        channel.send({})\n",
              "        if (message.buffers) {\n",
              "          for (const buffer of message.buffers) {\n",
              "            buffers.push(buffer);\n",
              "            downloaded += buffer.byteLength;\n",
              "            progress.value = downloaded;\n",
              "          }\n",
              "        }\n",
              "      }\n",
              "      const blob = new Blob(buffers, {type: 'application/binary'});\n",
              "      const a = document.createElement('a');\n",
              "      a.href = window.URL.createObjectURL(blob);\n",
              "      a.download = filename;\n",
              "      div.appendChild(a);\n",
              "      a.click();\n",
              "      div.remove();\n",
              "    }\n",
              "  "
            ],
            "text/plain": [
              "<IPython.core.display.Javascript object>"
            ]
          },
          "metadata": {
            "tags": []
          }
        },
        {
          "output_type": "display_data",
          "data": {
            "application/javascript": [
              "download(\"download_216f3753-c33a-49d7-979e-32560569353f\", \"19.pdf\", 84724)"
            ],
            "text/plain": [
              "<IPython.core.display.Javascript object>"
            ]
          },
          "metadata": {
            "tags": []
          }
        },
        {
          "output_type": "display_data",
          "data": {
            "application/javascript": [
              "\n",
              "    async function download(id, filename, size) {\n",
              "      if (!google.colab.kernel.accessAllowed) {\n",
              "        return;\n",
              "      }\n",
              "      const div = document.createElement('div');\n",
              "      const label = document.createElement('label');\n",
              "      label.textContent = `Downloading \"${filename}\": `;\n",
              "      div.appendChild(label);\n",
              "      const progress = document.createElement('progress');\n",
              "      progress.max = size;\n",
              "      div.appendChild(progress);\n",
              "      document.body.appendChild(div);\n",
              "\n",
              "      const buffers = [];\n",
              "      let downloaded = 0;\n",
              "\n",
              "      const channel = await google.colab.kernel.comms.open(id);\n",
              "      // Send a message to notify the kernel that we're ready.\n",
              "      channel.send({})\n",
              "\n",
              "      for await (const message of channel.messages) {\n",
              "        // Send a message to notify the kernel that we're ready.\n",
              "        channel.send({})\n",
              "        if (message.buffers) {\n",
              "          for (const buffer of message.buffers) {\n",
              "            buffers.push(buffer);\n",
              "            downloaded += buffer.byteLength;\n",
              "            progress.value = downloaded;\n",
              "          }\n",
              "        }\n",
              "      }\n",
              "      const blob = new Blob(buffers, {type: 'application/binary'});\n",
              "      const a = document.createElement('a');\n",
              "      a.href = window.URL.createObjectURL(blob);\n",
              "      a.download = filename;\n",
              "      div.appendChild(a);\n",
              "      a.click();\n",
              "      div.remove();\n",
              "    }\n",
              "  "
            ],
            "text/plain": [
              "<IPython.core.display.Javascript object>"
            ]
          },
          "metadata": {
            "tags": []
          }
        },
        {
          "output_type": "display_data",
          "data": {
            "application/javascript": [
              "download(\"download_8c806b5d-595c-490c-9ac0-8a93dc868086\", \"20.pdf\", 84981)"
            ],
            "text/plain": [
              "<IPython.core.display.Javascript object>"
            ]
          },
          "metadata": {
            "tags": []
          }
        }
      ]
    },
    {
      "cell_type": "code",
      "metadata": {
        "id": "fKd2-G_ufjdy"
      },
      "source": [
        ""
      ],
      "execution_count": null,
      "outputs": []
    }
  ]
}